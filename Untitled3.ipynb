{
  "nbformat": 4,
  "nbformat_minor": 0,
  "metadata": {
    "colab": {
      "provenance": []
    },
    "kernelspec": {
      "name": "python3",
      "display_name": "Python 3"
    },
    "language_info": {
      "name": "python"
    }
  },
  "cells": [
    {
      "cell_type": "code",
      "source": [
        "!pip install moviepy\n",
        "!pip install SpeechRecognition"
      ],
      "metadata": {
        "colab": {
          "base_uri": "https://localhost:8080/"
        },
        "id": "pdv-owCN_hv4",
        "outputId": "1416454e-4459-4be7-d33b-364158eac394"
      },
      "execution_count": 29,
      "outputs": [
        {
          "output_type": "stream",
          "name": "stdout",
          "text": [
            "Looking in indexes: https://pypi.org/simple, https://us-python.pkg.dev/colab-wheels/public/simple/\n",
            "Requirement already satisfied: moviepy in /usr/local/lib/python3.10/dist-packages (1.0.3)\n",
            "Requirement already satisfied: decorator<5.0,>=4.0.2 in /usr/local/lib/python3.10/dist-packages (from moviepy) (4.4.2)\n",
            "Requirement already satisfied: tqdm<5.0,>=4.11.2 in /usr/local/lib/python3.10/dist-packages (from moviepy) (4.65.0)\n",
            "Requirement already satisfied: requests<3.0,>=2.8.1 in /usr/local/lib/python3.10/dist-packages (from moviepy) (2.27.1)\n",
            "Requirement already satisfied: proglog<=1.0.0 in /usr/local/lib/python3.10/dist-packages (from moviepy) (0.1.10)\n",
            "Requirement already satisfied: numpy>=1.17.3 in /usr/local/lib/python3.10/dist-packages (from moviepy) (1.22.4)\n",
            "Requirement already satisfied: imageio<3.0,>=2.5 in /usr/local/lib/python3.10/dist-packages (from moviepy) (2.25.1)\n",
            "Requirement already satisfied: imageio-ffmpeg>=0.2.0 in /usr/local/lib/python3.10/dist-packages (from moviepy) (0.4.8)\n",
            "Requirement already satisfied: pillow>=8.3.2 in /usr/local/lib/python3.10/dist-packages (from imageio<3.0,>=2.5->moviepy) (8.4.0)\n",
            "Requirement already satisfied: urllib3<1.27,>=1.21.1 in /usr/local/lib/python3.10/dist-packages (from requests<3.0,>=2.8.1->moviepy) (1.26.15)\n",
            "Requirement already satisfied: certifi>=2017.4.17 in /usr/local/lib/python3.10/dist-packages (from requests<3.0,>=2.8.1->moviepy) (2022.12.7)\n",
            "Requirement already satisfied: charset-normalizer~=2.0.0 in /usr/local/lib/python3.10/dist-packages (from requests<3.0,>=2.8.1->moviepy) (2.0.12)\n",
            "Requirement already satisfied: idna<4,>=2.5 in /usr/local/lib/python3.10/dist-packages (from requests<3.0,>=2.8.1->moviepy) (3.4)\n",
            "Looking in indexes: https://pypi.org/simple, https://us-python.pkg.dev/colab-wheels/public/simple/\n",
            "Collecting SpeechRecognition\n",
            "  Downloading SpeechRecognition-3.10.0-py2.py3-none-any.whl (32.8 MB)\n",
            "\u001b[2K     \u001b[90m━━━━━━━━━━━━━━━━━━━━━━━━━━━━━━━━━━━━━━━━\u001b[0m \u001b[32m32.8/32.8 MB\u001b[0m \u001b[31m26.4 MB/s\u001b[0m eta \u001b[36m0:00:00\u001b[0m\n",
            "\u001b[?25hRequirement already satisfied: requests>=2.26.0 in /usr/local/lib/python3.10/dist-packages (from SpeechRecognition) (2.27.1)\n",
            "Requirement already satisfied: urllib3<1.27,>=1.21.1 in /usr/local/lib/python3.10/dist-packages (from requests>=2.26.0->SpeechRecognition) (1.26.15)\n",
            "Requirement already satisfied: certifi>=2017.4.17 in /usr/local/lib/python3.10/dist-packages (from requests>=2.26.0->SpeechRecognition) (2022.12.7)\n",
            "Requirement already satisfied: charset-normalizer~=2.0.0 in /usr/local/lib/python3.10/dist-packages (from requests>=2.26.0->SpeechRecognition) (2.0.12)\n",
            "Requirement already satisfied: idna<4,>=2.5 in /usr/local/lib/python3.10/dist-packages (from requests>=2.26.0->SpeechRecognition) (3.4)\n",
            "Installing collected packages: SpeechRecognition\n",
            "Successfully installed SpeechRecognition-3.10.0\n"
          ]
        }
      ]
    },
    {
      "cell_type": "code",
      "source": [
        "import speech_recognition as sr\n",
        "import moviepy.editor as mp\n",
        "\n",
        "# Load the video file\n",
        "video_path = \"/content/baby.mp4\"\n",
        "clip = mp.VideoFileClip(video_path)\n",
        "\n",
        "# Extract the audio from the video\n",
        "audio_path = \"temp_audio.wav\"\n",
        "clip.audio.write_audiofile(audio_path)\n",
        "\n",
        "# Initialize the recognizer\n",
        "r = sr.Recognizer()\n",
        "\n",
        "# Transcribe the audio\n",
        "with sr.AudioFile(audio_path) as source:\n",
        "    audio_data = r.record(source)\n",
        "    text = r.recognize_google(audio_data)\n",
        "\n",
        "print(text)"
      ],
      "metadata": {
        "colab": {
          "base_uri": "https://localhost:8080/"
        },
        "id": "lGORUjPnC_g7",
        "outputId": "917dac5a-613e-4b1a-d13f-10481a8c6712"
      },
      "execution_count": 42,
      "outputs": [
        {
          "output_type": "stream",
          "name": "stderr",
          "text": [
            "\n",
            "chunk:   2%|▏         | 29/1174 [04:54<3:13:36, 10.15s/it, now=None]\n",
            "chunk:   2%|▏         | 27/1174 [03:55<2:46:55,  8.73s/it, now=None]\u001b[A"
          ]
        },
        {
          "output_type": "stream",
          "name": "stdout",
          "text": [
            "MoviePy - Writing audio in temp_audio.wav\n"
          ]
        },
        {
          "output_type": "stream",
          "name": "stderr",
          "text": [
            "\n",
            "\n",
            "chunk:   0%|          | 0/1174 [00:00<?, ?it/s, now=None]\u001b[A\u001b[A\n",
            "\n",
            "chunk:   7%|▋         | 81/1174 [00:00<00:01, 809.71it/s, now=None]\u001b[A\u001b[A\n",
            "\n",
            "chunk:  17%|█▋        | 204/1174 [00:00<00:00, 1035.60it/s, now=None]\u001b[A\u001b[A\n",
            "\n",
            "chunk:  30%|██▉       | 349/1174 [00:00<00:00, 1220.13it/s, now=None]\u001b[A\u001b[A\n",
            "\n",
            "chunk:  40%|████      | 472/1174 [00:00<00:00, 1219.04it/s, now=None]\u001b[A\u001b[A\n",
            "\n",
            "chunk:  52%|█████▏    | 607/1174 [00:00<00:00, 1265.54it/s, now=None]\u001b[A\u001b[A\n",
            "\n",
            "chunk:  63%|██████▎   | 738/1174 [00:00<00:00, 1279.33it/s, now=None]\u001b[A\u001b[A\n",
            "\n",
            "chunk:  75%|███████▍  | 879/1174 [00:00<00:00, 1321.80it/s, now=None]\u001b[A\u001b[A\n",
            "\n",
            "chunk:  87%|████████▋ | 1018/1174 [00:00<00:00, 1342.39it/s, now=None]\u001b[A\u001b[A\n",
            "\n",
            "chunk:  98%|█████████▊| 1153/1174 [00:00<00:00, 1296.53it/s, now=None]\u001b[A\u001b[A\n",
            "\n",
            "\n",
            "chunk:   2%|▏         | 29/1174 [04:55<3:14:15, 10.18s/it, now=None]\n",
            "chunk:   2%|▏         | 27/1174 [03:56<2:47:37,  8.77s/it, now=None]\u001b[A"
          ]
        },
        {
          "output_type": "stream",
          "name": "stdout",
          "text": [
            "MoviePy - Done.\n",
            "mom over and become you somehow\n"
          ]
        }
      ]
    }
  ]
}